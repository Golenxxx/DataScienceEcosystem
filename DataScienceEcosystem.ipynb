{
  "metadata": {
    "kernelspec": {
      "name": "python",
      "display_name": "Python (Pyodide)",
      "language": "python"
    },
    "language_info": {
      "codemirror_mode": {
        "name": "python",
        "version": 3
      },
      "file_extension": ".py",
      "mimetype": "text/x-python",
      "name": "python",
      "nbconvert_exporter": "python",
      "pygments_lexer": "ipython3",
      "version": "3.8"
    }
  },
  "nbformat_minor": 5,
  "nbformat": 4,
  "cells": [
    {
      "id": "51d92d62-045e-4d21-b72e-64bd301fd216",
      "cell_type": "markdown",
      "source": "# **Data Science Tools and Ecosystem**",
      "metadata": {}
    },
    {
      "id": "7269facc-b8b1-4b0b-a07a-229f78c759b8",
      "cell_type": "markdown",
      "source": "In this notebook, Data Science Tools and Ecosystem are summarized. ",
      "metadata": {}
    },
    {
      "id": "69490691-4a1d-4d1d-adf5-8ebf4fdd531e",
      "cell_type": "markdown",
      "source": "## **Objectives:**  \n\n- List popular languages for Data Science  \n- List commonly used libraries in Data Science  \n- Show examples of arithmetic expressions in Python  \n- Convert minutes to hours  \n- Explore open-source Data Science tools  ",
      "metadata": {}
    },
    {
      "id": "dd7d1b3d-7000-49ad-b81f-1ca177afcefc",
      "cell_type": "markdown",
      "source": "## Popular Data Science Languages  \n\nSome of the popular languages that Data Scientists use are:  \n\n1. Python  \n2. R  \n3. SQL  \n4. Julia  \n5. Scala  ",
      "metadata": {}
    },
    {
      "id": "cc13993d-e23a-40f2-8988-96bb6f6bebe9",
      "cell_type": "markdown",
      "source": "## Common Data Science Libraries  \n\nSome of the commonly used libraries used by Data Scientists include:  \n\n1. Pandas  \n2. NumPy  \n3. Scikit-learn  \n4. TensorFlow  \n5. Matplotlib  ",
      "metadata": {}
    },
    {
      "id": "feb394ed-ddf6-4cca-905d-72e57a9d93c1",
      "cell_type": "markdown",
      "source": "## Data Science Tools  \n\n| Data Science Tools |  \n|--------------------|  \n| Jupyter Notebook  |  \n| RStudio          |  \n| Apache Zeppelin  |  ",
      "metadata": {}
    },
    {
      "id": "3c239e5a-0abc-4d3e-88bb-74898466fa8a",
      "cell_type": "markdown",
      "source": "### Below are a few examples of evaluating arithmetic expressions in Python",
      "metadata": {}
    },
    {
      "id": "a3ce3f1a-6b7f-4800-8851-9a77b851813b",
      "cell_type": "code",
      "source": "# This is a simple arithmetic expression to multiply then add integers\nresult = (3 * 4) + 5\nresult",
      "metadata": {
        "trusted": true
      },
      "outputs": [
        {
          "execution_count": 4,
          "output_type": "execute_result",
          "data": {
            "text/plain": "17"
          },
          "metadata": {}
        }
      ],
      "execution_count": 4
    },
    {
      "id": "ae408f72-ddb5-468e-baa9-2a09f11db237",
      "cell_type": "code",
      "source": "# This will convert 200 minutes to hours by dividing by 60\nhours = 200 / 60\nhours",
      "metadata": {
        "trusted": true
      },
      "outputs": [
        {
          "execution_count": 5,
          "output_type": "execute_result",
          "data": {
            "text/plain": "3.3333333333333335"
          },
          "metadata": {}
        }
      ],
      "execution_count": 5
    },
    {
      "id": "d68e6a74-a965-4828-aa28-eec956b162fc",
      "cell_type": "markdown",
      "source": "## Author  \n\nBraulio",
      "metadata": {}
    },
    {
      "id": "b0f84c21-85ad-48ad-9f56-b57653d978f2",
      "cell_type": "code",
      "source": "",
      "metadata": {
        "trusted": true
      },
      "outputs": [],
      "execution_count": null
    }
  ]
}